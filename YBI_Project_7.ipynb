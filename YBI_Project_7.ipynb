{
  "nbformat": 4,
  "nbformat_minor": 0,
  "metadata": {
    "colab": {
      "provenance": []
    },
    "kernelspec": {
      "name": "python3",
      "display_name": "Python 3"
    },
    "language_info": {
      "name": "python"
    }
  },
  "cells": [
    {
      "cell_type": "markdown",
      "source": [
        "Thyroid Diesease Prediction"
      ],
      "metadata": {
        "id": "oaZ9lVlGcfxx"
      }
    },
    {
      "cell_type": "markdown",
      "source": [
        "age - age of the patient (int)\n",
        "\n",
        "sex - sex patient identifies (str)\n",
        "\n",
        "on_thyroxine - whether patient is on thyroxine (bool)\n",
        "\n",
        "query on thyroxine - *whether patient is on thyroxine (bool)\n",
        "\n",
        "on antithyroid meds - whether patient is on antithyroid meds (bool)\n",
        "\n",
        "sick - whether patient is sick (bool)\n",
        "\n",
        "pregnant - whether patient is pregnant (bool)\n",
        "\n",
        "thyroid_surgery - whether patient has undergone thyroid surgery (bool)\n",
        "\n",
        "I131_treatment - whether patient is undergoing I131 treatment (bool)\n",
        "\n",
        "query_hypothyroid - whether patient believes they have hypothyroid (bool)\n",
        "\n",
        "query_hyperthyroid - whether patient believes they have hyperthyroid (bool)\n",
        "\n",
        "lithium - whether patient * lithium (bool)\n",
        "\n",
        "goitre - whether patient has goitre (bool)\n",
        "\n",
        "tumor - whether patient has tumor (bool)\n",
        "\n",
        "hypopituitary - whether patient * hyperpituitary gland (float)\n",
        "\n",
        "psych - whether patient * psych (bool)\n",
        "\n",
        "TSH_measured - whether TSH was measured in the blood (bool)\n",
        "\n",
        "TSH - TSH level in blood from lab work (float)\n",
        "\n",
        "T3_measured - whether T3 was measured in the blood (bool)\n",
        "\n",
        "T3 - T3 level in blood from lab work (float)\n",
        "\n",
        "TT4_measured - whether TT4 was measured in the blood (bool)\n",
        "\n",
        "TT4 - TT4 level in blood from lab work (float)\n",
        "\n",
        "T4U_measured - whether T4U was measured in the blood (bool)\n",
        "\n",
        "T4U - T4U level in blood from lab work (float)\n",
        "\n",
        "FTI_measured - whether FTI was measured in the blood (bool)\n",
        "\n",
        "FTI - FTI level in blood from lab work (float)\n",
        "\n",
        "TBG_measured - whether TBG was measured in the blood (bool)\n",
        "\n",
        "TBG - TBG level in blood from lab work (float)\n",
        "\n",
        "referral_source - (str)\n",
        "\n",
        "binary class"
      ],
      "metadata": {
        "id": "FPmEuadccj_t"
      }
    },
    {
      "cell_type": "code",
      "source": [
        "import numpy as np\n",
        "import pandas as pd\n",
        "import matplotlib.pyplot as plt\n",
        "import statsmodels.api as sm\n",
        "import seaborn as sns\n",
        "\n",
        "%matplotlib inline\n",
        "sns.set(rc={'figure.figsize': [10, 10]}, font_scale=1.4)"
      ],
      "metadata": {
        "id": "05X-h-79oTY9"
      },
      "execution_count": null,
      "outputs": []
    },
    {
      "cell_type": "code",
      "source": [
        "df = pd.read_csv('/content/sample_data/ThyroidDisease.csv')\n",
        "df.head()"
      ],
      "metadata": {
        "colab": {
          "base_uri": "https://localhost:8080/",
          "height": 297
        },
        "id": "BYwSVTf2oYPx",
        "outputId": "6cdd2af6-313b-49a6-931e-d7730790522d"
      },
      "execution_count": null,
      "outputs": [
        {
          "output_type": "execute_result",
          "data": {
            "text/plain": [
              "  age sex on thyroxine query on thyroxine on antithyroid medication sick  \\\n",
              "0  41   F            f                  f                         f    f   \n",
              "1  23   F            f                  f                         f    f   \n",
              "2  46   M            f                  f                         f    f   \n",
              "3  70   F            t                  f                         f    f   \n",
              "4  70   F            f                  f                         f    f   \n",
              "\n",
              "  pregnant thyroid surgery I131 treatment query hypothyroid  ... TT4 measured  \\\n",
              "0        f               f              f                 f  ...            t   \n",
              "1        f               f              f                 f  ...            t   \n",
              "2        f               f              f                 f  ...            t   \n",
              "3        f               f              f                 f  ...            t   \n",
              "4        f               f              f                 f  ...            t   \n",
              "\n",
              "   TT4 T4U measured   T4U FTI measured  FTI TBG measured TBG referral source  \\\n",
              "0  125            t  1.14            t  109            f   ?            SVHC   \n",
              "1  102            f     ?            f    ?            f   ?           other   \n",
              "2  109            t  0.91            t  120            f   ?           other   \n",
              "3  175            f     ?            f    ?            f   ?           other   \n",
              "4   61            t  0.87            t   70            f   ?             SVI   \n",
              "\n",
              "  binaryClass  \n",
              "0           P  \n",
              "1           P  \n",
              "2           P  \n",
              "3           P  \n",
              "4           P  \n",
              "\n",
              "[5 rows x 30 columns]"
            ],
            "text/html": [
              "\n",
              "  <div id=\"df-0a110a74-159a-43d3-a246-672d6b01694d\">\n",
              "    <div class=\"colab-df-container\">\n",
              "      <div>\n",
              "<style scoped>\n",
              "    .dataframe tbody tr th:only-of-type {\n",
              "        vertical-align: middle;\n",
              "    }\n",
              "\n",
              "    .dataframe tbody tr th {\n",
              "        vertical-align: top;\n",
              "    }\n",
              "\n",
              "    .dataframe thead th {\n",
              "        text-align: right;\n",
              "    }\n",
              "</style>\n",
              "<table border=\"1\" class=\"dataframe\">\n",
              "  <thead>\n",
              "    <tr style=\"text-align: right;\">\n",
              "      <th></th>\n",
              "      <th>age</th>\n",
              "      <th>sex</th>\n",
              "      <th>on thyroxine</th>\n",
              "      <th>query on thyroxine</th>\n",
              "      <th>on antithyroid medication</th>\n",
              "      <th>sick</th>\n",
              "      <th>pregnant</th>\n",
              "      <th>thyroid surgery</th>\n",
              "      <th>I131 treatment</th>\n",
              "      <th>query hypothyroid</th>\n",
              "      <th>...</th>\n",
              "      <th>TT4 measured</th>\n",
              "      <th>TT4</th>\n",
              "      <th>T4U measured</th>\n",
              "      <th>T4U</th>\n",
              "      <th>FTI measured</th>\n",
              "      <th>FTI</th>\n",
              "      <th>TBG measured</th>\n",
              "      <th>TBG</th>\n",
              "      <th>referral source</th>\n",
              "      <th>binaryClass</th>\n",
              "    </tr>\n",
              "  </thead>\n",
              "  <tbody>\n",
              "    <tr>\n",
              "      <th>0</th>\n",
              "      <td>41</td>\n",
              "      <td>F</td>\n",
              "      <td>f</td>\n",
              "      <td>f</td>\n",
              "      <td>f</td>\n",
              "      <td>f</td>\n",
              "      <td>f</td>\n",
              "      <td>f</td>\n",
              "      <td>f</td>\n",
              "      <td>f</td>\n",
              "      <td>...</td>\n",
              "      <td>t</td>\n",
              "      <td>125</td>\n",
              "      <td>t</td>\n",
              "      <td>1.14</td>\n",
              "      <td>t</td>\n",
              "      <td>109</td>\n",
              "      <td>f</td>\n",
              "      <td>?</td>\n",
              "      <td>SVHC</td>\n",
              "      <td>P</td>\n",
              "    </tr>\n",
              "    <tr>\n",
              "      <th>1</th>\n",
              "      <td>23</td>\n",
              "      <td>F</td>\n",
              "      <td>f</td>\n",
              "      <td>f</td>\n",
              "      <td>f</td>\n",
              "      <td>f</td>\n",
              "      <td>f</td>\n",
              "      <td>f</td>\n",
              "      <td>f</td>\n",
              "      <td>f</td>\n",
              "      <td>...</td>\n",
              "      <td>t</td>\n",
              "      <td>102</td>\n",
              "      <td>f</td>\n",
              "      <td>?</td>\n",
              "      <td>f</td>\n",
              "      <td>?</td>\n",
              "      <td>f</td>\n",
              "      <td>?</td>\n",
              "      <td>other</td>\n",
              "      <td>P</td>\n",
              "    </tr>\n",
              "    <tr>\n",
              "      <th>2</th>\n",
              "      <td>46</td>\n",
              "      <td>M</td>\n",
              "      <td>f</td>\n",
              "      <td>f</td>\n",
              "      <td>f</td>\n",
              "      <td>f</td>\n",
              "      <td>f</td>\n",
              "      <td>f</td>\n",
              "      <td>f</td>\n",
              "      <td>f</td>\n",
              "      <td>...</td>\n",
              "      <td>t</td>\n",
              "      <td>109</td>\n",
              "      <td>t</td>\n",
              "      <td>0.91</td>\n",
              "      <td>t</td>\n",
              "      <td>120</td>\n",
              "      <td>f</td>\n",
              "      <td>?</td>\n",
              "      <td>other</td>\n",
              "      <td>P</td>\n",
              "    </tr>\n",
              "    <tr>\n",
              "      <th>3</th>\n",
              "      <td>70</td>\n",
              "      <td>F</td>\n",
              "      <td>t</td>\n",
              "      <td>f</td>\n",
              "      <td>f</td>\n",
              "      <td>f</td>\n",
              "      <td>f</td>\n",
              "      <td>f</td>\n",
              "      <td>f</td>\n",
              "      <td>f</td>\n",
              "      <td>...</td>\n",
              "      <td>t</td>\n",
              "      <td>175</td>\n",
              "      <td>f</td>\n",
              "      <td>?</td>\n",
              "      <td>f</td>\n",
              "      <td>?</td>\n",
              "      <td>f</td>\n",
              "      <td>?</td>\n",
              "      <td>other</td>\n",
              "      <td>P</td>\n",
              "    </tr>\n",
              "    <tr>\n",
              "      <th>4</th>\n",
              "      <td>70</td>\n",
              "      <td>F</td>\n",
              "      <td>f</td>\n",
              "      <td>f</td>\n",
              "      <td>f</td>\n",
              "      <td>f</td>\n",
              "      <td>f</td>\n",
              "      <td>f</td>\n",
              "      <td>f</td>\n",
              "      <td>f</td>\n",
              "      <td>...</td>\n",
              "      <td>t</td>\n",
              "      <td>61</td>\n",
              "      <td>t</td>\n",
              "      <td>0.87</td>\n",
              "      <td>t</td>\n",
              "      <td>70</td>\n",
              "      <td>f</td>\n",
              "      <td>?</td>\n",
              "      <td>SVI</td>\n",
              "      <td>P</td>\n",
              "    </tr>\n",
              "  </tbody>\n",
              "</table>\n",
              "<p>5 rows × 30 columns</p>\n",
              "</div>\n",
              "      <button class=\"colab-df-convert\" onclick=\"convertToInteractive('df-0a110a74-159a-43d3-a246-672d6b01694d')\"\n",
              "              title=\"Convert this dataframe to an interactive table.\"\n",
              "              style=\"display:none;\">\n",
              "        \n",
              "  <svg xmlns=\"http://www.w3.org/2000/svg\" height=\"24px\"viewBox=\"0 0 24 24\"\n",
              "       width=\"24px\">\n",
              "    <path d=\"M0 0h24v24H0V0z\" fill=\"none\"/>\n",
              "    <path d=\"M18.56 5.44l.94 2.06.94-2.06 2.06-.94-2.06-.94-.94-2.06-.94 2.06-2.06.94zm-11 1L8.5 8.5l.94-2.06 2.06-.94-2.06-.94L8.5 2.5l-.94 2.06-2.06.94zm10 10l.94 2.06.94-2.06 2.06-.94-2.06-.94-.94-2.06-.94 2.06-2.06.94z\"/><path d=\"M17.41 7.96l-1.37-1.37c-.4-.4-.92-.59-1.43-.59-.52 0-1.04.2-1.43.59L10.3 9.45l-7.72 7.72c-.78.78-.78 2.05 0 2.83L4 21.41c.39.39.9.59 1.41.59.51 0 1.02-.2 1.41-.59l7.78-7.78 2.81-2.81c.8-.78.8-2.07 0-2.86zM5.41 20L4 18.59l7.72-7.72 1.47 1.35L5.41 20z\"/>\n",
              "  </svg>\n",
              "      </button>\n",
              "      \n",
              "  <style>\n",
              "    .colab-df-container {\n",
              "      display:flex;\n",
              "      flex-wrap:wrap;\n",
              "      gap: 12px;\n",
              "    }\n",
              "\n",
              "    .colab-df-convert {\n",
              "      background-color: #E8F0FE;\n",
              "      border: none;\n",
              "      border-radius: 50%;\n",
              "      cursor: pointer;\n",
              "      display: none;\n",
              "      fill: #1967D2;\n",
              "      height: 32px;\n",
              "      padding: 0 0 0 0;\n",
              "      width: 32px;\n",
              "    }\n",
              "\n",
              "    .colab-df-convert:hover {\n",
              "      background-color: #E2EBFA;\n",
              "      box-shadow: 0px 1px 2px rgba(60, 64, 67, 0.3), 0px 1px 3px 1px rgba(60, 64, 67, 0.15);\n",
              "      fill: #174EA6;\n",
              "    }\n",
              "\n",
              "    [theme=dark] .colab-df-convert {\n",
              "      background-color: #3B4455;\n",
              "      fill: #D2E3FC;\n",
              "    }\n",
              "\n",
              "    [theme=dark] .colab-df-convert:hover {\n",
              "      background-color: #434B5C;\n",
              "      box-shadow: 0px 1px 3px 1px rgba(0, 0, 0, 0.15);\n",
              "      filter: drop-shadow(0px 1px 2px rgba(0, 0, 0, 0.3));\n",
              "      fill: #FFFFFF;\n",
              "    }\n",
              "  </style>\n",
              "\n",
              "      <script>\n",
              "        const buttonEl =\n",
              "          document.querySelector('#df-0a110a74-159a-43d3-a246-672d6b01694d button.colab-df-convert');\n",
              "        buttonEl.style.display =\n",
              "          google.colab.kernel.accessAllowed ? 'block' : 'none';\n",
              "\n",
              "        async function convertToInteractive(key) {\n",
              "          const element = document.querySelector('#df-0a110a74-159a-43d3-a246-672d6b01694d');\n",
              "          const dataTable =\n",
              "            await google.colab.kernel.invokeFunction('convertToInteractive',\n",
              "                                                     [key], {});\n",
              "          if (!dataTable) return;\n",
              "\n",
              "          const docLinkHtml = 'Like what you see? Visit the ' +\n",
              "            '<a target=\"_blank\" href=https://colab.research.google.com/notebooks/data_table.ipynb>data table notebook</a>'\n",
              "            + ' to learn more about interactive tables.';\n",
              "          element.innerHTML = '';\n",
              "          dataTable['output_type'] = 'display_data';\n",
              "          await google.colab.output.renderOutput(dataTable, element);\n",
              "          const docLink = document.createElement('div');\n",
              "          docLink.innerHTML = docLinkHtml;\n",
              "          element.appendChild(docLink);\n",
              "        }\n",
              "      </script>\n",
              "    </div>\n",
              "  </div>\n",
              "  "
            ]
          },
          "metadata": {},
          "execution_count": 3
        }
      ]
    },
    {
      "cell_type": "code",
      "source": [
        "df.describe()"
      ],
      "metadata": {
        "colab": {
          "base_uri": "https://localhost:8080/",
          "height": 283
        },
        "id": "61A1x1ZqohE8",
        "outputId": "0e4d4a31-5271-4f22-f60b-3b97bb71d5f9"
      },
      "execution_count": null,
      "outputs": [
        {
          "output_type": "execute_result",
          "data": {
            "text/plain": [
              "         age   sex on thyroxine query on thyroxine on antithyroid medication  \\\n",
              "count   3772  3772         3772               3772                      3772   \n",
              "unique    94     3            2                  2                         2   \n",
              "top       59     F            f                  f                         f   \n",
              "freq      95  2480         3308               3722                      3729   \n",
              "\n",
              "        sick pregnant thyroid surgery I131 treatment query hypothyroid  ...  \\\n",
              "count   3772     3772            3772           3772              3772  ...   \n",
              "unique     2        2               2              2                 2  ...   \n",
              "top        f        f               f              f                 f  ...   \n",
              "freq    3625     3719            3719           3713              3538  ...   \n",
              "\n",
              "       TT4 measured   TT4 T4U measured   T4U FTI measured   FTI TBG measured  \\\n",
              "count          3772  3772         3772  3772         3772  3772         3772   \n",
              "unique            2   242            2   147            2   235            1   \n",
              "top               t     ?            t     ?            t     ?            f   \n",
              "freq           3541   231         3385   387         3387   385         3772   \n",
              "\n",
              "         TBG referral source binaryClass  \n",
              "count   3772            3772        3772  \n",
              "unique     1               5           2  \n",
              "top        ?           other           P  \n",
              "freq    3772            2201        3481  \n",
              "\n",
              "[4 rows x 30 columns]"
            ],
            "text/html": [
              "\n",
              "  <div id=\"df-39684917-5e6d-4af6-bee2-83c7cac7c909\">\n",
              "    <div class=\"colab-df-container\">\n",
              "      <div>\n",
              "<style scoped>\n",
              "    .dataframe tbody tr th:only-of-type {\n",
              "        vertical-align: middle;\n",
              "    }\n",
              "\n",
              "    .dataframe tbody tr th {\n",
              "        vertical-align: top;\n",
              "    }\n",
              "\n",
              "    .dataframe thead th {\n",
              "        text-align: right;\n",
              "    }\n",
              "</style>\n",
              "<table border=\"1\" class=\"dataframe\">\n",
              "  <thead>\n",
              "    <tr style=\"text-align: right;\">\n",
              "      <th></th>\n",
              "      <th>age</th>\n",
              "      <th>sex</th>\n",
              "      <th>on thyroxine</th>\n",
              "      <th>query on thyroxine</th>\n",
              "      <th>on antithyroid medication</th>\n",
              "      <th>sick</th>\n",
              "      <th>pregnant</th>\n",
              "      <th>thyroid surgery</th>\n",
              "      <th>I131 treatment</th>\n",
              "      <th>query hypothyroid</th>\n",
              "      <th>...</th>\n",
              "      <th>TT4 measured</th>\n",
              "      <th>TT4</th>\n",
              "      <th>T4U measured</th>\n",
              "      <th>T4U</th>\n",
              "      <th>FTI measured</th>\n",
              "      <th>FTI</th>\n",
              "      <th>TBG measured</th>\n",
              "      <th>TBG</th>\n",
              "      <th>referral source</th>\n",
              "      <th>binaryClass</th>\n",
              "    </tr>\n",
              "  </thead>\n",
              "  <tbody>\n",
              "    <tr>\n",
              "      <th>count</th>\n",
              "      <td>3772</td>\n",
              "      <td>3772</td>\n",
              "      <td>3772</td>\n",
              "      <td>3772</td>\n",
              "      <td>3772</td>\n",
              "      <td>3772</td>\n",
              "      <td>3772</td>\n",
              "      <td>3772</td>\n",
              "      <td>3772</td>\n",
              "      <td>3772</td>\n",
              "      <td>...</td>\n",
              "      <td>3772</td>\n",
              "      <td>3772</td>\n",
              "      <td>3772</td>\n",
              "      <td>3772</td>\n",
              "      <td>3772</td>\n",
              "      <td>3772</td>\n",
              "      <td>3772</td>\n",
              "      <td>3772</td>\n",
              "      <td>3772</td>\n",
              "      <td>3772</td>\n",
              "    </tr>\n",
              "    <tr>\n",
              "      <th>unique</th>\n",
              "      <td>94</td>\n",
              "      <td>3</td>\n",
              "      <td>2</td>\n",
              "      <td>2</td>\n",
              "      <td>2</td>\n",
              "      <td>2</td>\n",
              "      <td>2</td>\n",
              "      <td>2</td>\n",
              "      <td>2</td>\n",
              "      <td>2</td>\n",
              "      <td>...</td>\n",
              "      <td>2</td>\n",
              "      <td>242</td>\n",
              "      <td>2</td>\n",
              "      <td>147</td>\n",
              "      <td>2</td>\n",
              "      <td>235</td>\n",
              "      <td>1</td>\n",
              "      <td>1</td>\n",
              "      <td>5</td>\n",
              "      <td>2</td>\n",
              "    </tr>\n",
              "    <tr>\n",
              "      <th>top</th>\n",
              "      <td>59</td>\n",
              "      <td>F</td>\n",
              "      <td>f</td>\n",
              "      <td>f</td>\n",
              "      <td>f</td>\n",
              "      <td>f</td>\n",
              "      <td>f</td>\n",
              "      <td>f</td>\n",
              "      <td>f</td>\n",
              "      <td>f</td>\n",
              "      <td>...</td>\n",
              "      <td>t</td>\n",
              "      <td>?</td>\n",
              "      <td>t</td>\n",
              "      <td>?</td>\n",
              "      <td>t</td>\n",
              "      <td>?</td>\n",
              "      <td>f</td>\n",
              "      <td>?</td>\n",
              "      <td>other</td>\n",
              "      <td>P</td>\n",
              "    </tr>\n",
              "    <tr>\n",
              "      <th>freq</th>\n",
              "      <td>95</td>\n",
              "      <td>2480</td>\n",
              "      <td>3308</td>\n",
              "      <td>3722</td>\n",
              "      <td>3729</td>\n",
              "      <td>3625</td>\n",
              "      <td>3719</td>\n",
              "      <td>3719</td>\n",
              "      <td>3713</td>\n",
              "      <td>3538</td>\n",
              "      <td>...</td>\n",
              "      <td>3541</td>\n",
              "      <td>231</td>\n",
              "      <td>3385</td>\n",
              "      <td>387</td>\n",
              "      <td>3387</td>\n",
              "      <td>385</td>\n",
              "      <td>3772</td>\n",
              "      <td>3772</td>\n",
              "      <td>2201</td>\n",
              "      <td>3481</td>\n",
              "    </tr>\n",
              "  </tbody>\n",
              "</table>\n",
              "<p>4 rows × 30 columns</p>\n",
              "</div>\n",
              "      <button class=\"colab-df-convert\" onclick=\"convertToInteractive('df-39684917-5e6d-4af6-bee2-83c7cac7c909')\"\n",
              "              title=\"Convert this dataframe to an interactive table.\"\n",
              "              style=\"display:none;\">\n",
              "        \n",
              "  <svg xmlns=\"http://www.w3.org/2000/svg\" height=\"24px\"viewBox=\"0 0 24 24\"\n",
              "       width=\"24px\">\n",
              "    <path d=\"M0 0h24v24H0V0z\" fill=\"none\"/>\n",
              "    <path d=\"M18.56 5.44l.94 2.06.94-2.06 2.06-.94-2.06-.94-.94-2.06-.94 2.06-2.06.94zm-11 1L8.5 8.5l.94-2.06 2.06-.94-2.06-.94L8.5 2.5l-.94 2.06-2.06.94zm10 10l.94 2.06.94-2.06 2.06-.94-2.06-.94-.94-2.06-.94 2.06-2.06.94z\"/><path d=\"M17.41 7.96l-1.37-1.37c-.4-.4-.92-.59-1.43-.59-.52 0-1.04.2-1.43.59L10.3 9.45l-7.72 7.72c-.78.78-.78 2.05 0 2.83L4 21.41c.39.39.9.59 1.41.59.51 0 1.02-.2 1.41-.59l7.78-7.78 2.81-2.81c.8-.78.8-2.07 0-2.86zM5.41 20L4 18.59l7.72-7.72 1.47 1.35L5.41 20z\"/>\n",
              "  </svg>\n",
              "      </button>\n",
              "      \n",
              "  <style>\n",
              "    .colab-df-container {\n",
              "      display:flex;\n",
              "      flex-wrap:wrap;\n",
              "      gap: 12px;\n",
              "    }\n",
              "\n",
              "    .colab-df-convert {\n",
              "      background-color: #E8F0FE;\n",
              "      border: none;\n",
              "      border-radius: 50%;\n",
              "      cursor: pointer;\n",
              "      display: none;\n",
              "      fill: #1967D2;\n",
              "      height: 32px;\n",
              "      padding: 0 0 0 0;\n",
              "      width: 32px;\n",
              "    }\n",
              "\n",
              "    .colab-df-convert:hover {\n",
              "      background-color: #E2EBFA;\n",
              "      box-shadow: 0px 1px 2px rgba(60, 64, 67, 0.3), 0px 1px 3px 1px rgba(60, 64, 67, 0.15);\n",
              "      fill: #174EA6;\n",
              "    }\n",
              "\n",
              "    [theme=dark] .colab-df-convert {\n",
              "      background-color: #3B4455;\n",
              "      fill: #D2E3FC;\n",
              "    }\n",
              "\n",
              "    [theme=dark] .colab-df-convert:hover {\n",
              "      background-color: #434B5C;\n",
              "      box-shadow: 0px 1px 3px 1px rgba(0, 0, 0, 0.15);\n",
              "      filter: drop-shadow(0px 1px 2px rgba(0, 0, 0, 0.3));\n",
              "      fill: #FFFFFF;\n",
              "    }\n",
              "  </style>\n",
              "\n",
              "      <script>\n",
              "        const buttonEl =\n",
              "          document.querySelector('#df-39684917-5e6d-4af6-bee2-83c7cac7c909 button.colab-df-convert');\n",
              "        buttonEl.style.display =\n",
              "          google.colab.kernel.accessAllowed ? 'block' : 'none';\n",
              "\n",
              "        async function convertToInteractive(key) {\n",
              "          const element = document.querySelector('#df-39684917-5e6d-4af6-bee2-83c7cac7c909');\n",
              "          const dataTable =\n",
              "            await google.colab.kernel.invokeFunction('convertToInteractive',\n",
              "                                                     [key], {});\n",
              "          if (!dataTable) return;\n",
              "\n",
              "          const docLinkHtml = 'Like what you see? Visit the ' +\n",
              "            '<a target=\"_blank\" href=https://colab.research.google.com/notebooks/data_table.ipynb>data table notebook</a>'\n",
              "            + ' to learn more about interactive tables.';\n",
              "          element.innerHTML = '';\n",
              "          dataTable['output_type'] = 'display_data';\n",
              "          await google.colab.output.renderOutput(dataTable, element);\n",
              "          const docLink = document.createElement('div');\n",
              "          docLink.innerHTML = docLinkHtml;\n",
              "          element.appendChild(docLink);\n",
              "        }\n",
              "      </script>\n",
              "    </div>\n",
              "  </div>\n",
              "  "
            ]
          },
          "metadata": {},
          "execution_count": 4
        }
      ]
    },
    {
      "cell_type": "code",
      "source": [
        "df.info()"
      ],
      "metadata": {
        "colab": {
          "base_uri": "https://localhost:8080/"
        },
        "id": "YBPiKzJ2oiVu",
        "outputId": "0e48e619-4c6d-4a6b-918b-fa5d4f02bd9a"
      },
      "execution_count": null,
      "outputs": [
        {
          "output_type": "stream",
          "name": "stdout",
          "text": [
            "<class 'pandas.core.frame.DataFrame'>\n",
            "RangeIndex: 3772 entries, 0 to 3771\n",
            "Data columns (total 30 columns):\n",
            " #   Column                     Non-Null Count  Dtype \n",
            "---  ------                     --------------  ----- \n",
            " 0   age                        3772 non-null   object\n",
            " 1   sex                        3772 non-null   object\n",
            " 2   on thyroxine               3772 non-null   object\n",
            " 3   query on thyroxine         3772 non-null   object\n",
            " 4   on antithyroid medication  3772 non-null   object\n",
            " 5   sick                       3772 non-null   object\n",
            " 6   pregnant                   3772 non-null   object\n",
            " 7   thyroid surgery            3772 non-null   object\n",
            " 8   I131 treatment             3772 non-null   object\n",
            " 9   query hypothyroid          3772 non-null   object\n",
            " 10  query hyperthyroid         3772 non-null   object\n",
            " 11  lithium                    3772 non-null   object\n",
            " 12  goitre                     3772 non-null   object\n",
            " 13  tumor                      3772 non-null   object\n",
            " 14  hypopituitary              3772 non-null   object\n",
            " 15  psych                      3772 non-null   object\n",
            " 16  TSH measured               3772 non-null   object\n",
            " 17  TSH                        3772 non-null   object\n",
            " 18  T3 measured                3772 non-null   object\n",
            " 19  T3                         3772 non-null   object\n",
            " 20  TT4 measured               3772 non-null   object\n",
            " 21  TT4                        3772 non-null   object\n",
            " 22  T4U measured               3772 non-null   object\n",
            " 23  T4U                        3772 non-null   object\n",
            " 24  FTI measured               3772 non-null   object\n",
            " 25  FTI                        3772 non-null   object\n",
            " 26  TBG measured               3772 non-null   object\n",
            " 27  TBG                        3772 non-null   object\n",
            " 28  referral source            3772 non-null   object\n",
            " 29  binaryClass                3772 non-null   object\n",
            "dtypes: object(30)\n",
            "memory usage: 884.2+ KB\n"
          ]
        }
      ]
    },
    {
      "cell_type": "code",
      "source": [
        "df[\"binaryClass\"].value_counts()"
      ],
      "metadata": {
        "colab": {
          "base_uri": "https://localhost:8080/"
        },
        "id": "YYsG-f48ophN",
        "outputId": "ead402ff-e712-4e51-ada5-86d0680e6e9c"
      },
      "execution_count": null,
      "outputs": [
        {
          "output_type": "execute_result",
          "data": {
            "text/plain": [
              "P    3481\n",
              "N     291\n",
              "Name: binaryClass, dtype: int64"
            ]
          },
          "metadata": {},
          "execution_count": 6
        }
      ]
    },
    {
      "cell_type": "code",
      "source": [
        "df[\"binaryClass\"]=df[\"binaryClass\"].map({\"P\":0,\"N\":1})"
      ],
      "metadata": {
        "id": "6LzZX3Huoq8K"
      },
      "execution_count": null,
      "outputs": []
    },
    {
      "cell_type": "code",
      "source": [
        "df=df.replace({\"t\":1,\"f\":0})"
      ],
      "metadata": {
        "id": "tXM4fPRJow9-"
      },
      "execution_count": null,
      "outputs": []
    },
    {
      "cell_type": "code",
      "source": [
        "df.isnull().sum()"
      ],
      "metadata": {
        "colab": {
          "base_uri": "https://localhost:8080/"
        },
        "id": "U-AdmB3Do5S9",
        "outputId": "6ab2b366-fa51-4a17-f923-53431661b397"
      },
      "execution_count": null,
      "outputs": [
        {
          "output_type": "execute_result",
          "data": {
            "text/plain": [
              "age                          0\n",
              "sex                          0\n",
              "on thyroxine                 0\n",
              "query on thyroxine           0\n",
              "on antithyroid medication    0\n",
              "sick                         0\n",
              "pregnant                     0\n",
              "thyroid surgery              0\n",
              "I131 treatment               0\n",
              "query hypothyroid            0\n",
              "query hyperthyroid           0\n",
              "lithium                      0\n",
              "goitre                       0\n",
              "tumor                        0\n",
              "hypopituitary                0\n",
              "psych                        0\n",
              "TSH measured                 0\n",
              "TSH                          0\n",
              "T3 measured                  0\n",
              "T3                           0\n",
              "TT4 measured                 0\n",
              "TT4                          0\n",
              "T4U measured                 0\n",
              "T4U                          0\n",
              "FTI measured                 0\n",
              "FTI                          0\n",
              "TBG measured                 0\n",
              "TBG                          0\n",
              "referral source              0\n",
              "binaryClass                  0\n",
              "dtype: int64"
            ]
          },
          "metadata": {},
          "execution_count": 9
        }
      ]
    },
    {
      "cell_type": "code",
      "source": [
        "df[\"TBG\"].value_counts()"
      ],
      "metadata": {
        "colab": {
          "base_uri": "https://localhost:8080/"
        },
        "id": "RUr5bPH2o8bD",
        "outputId": "05157a92-3db8-4876-dc48-6c532219fd30"
      },
      "execution_count": null,
      "outputs": [
        {
          "output_type": "execute_result",
          "data": {
            "text/plain": [
              "?    3772\n",
              "Name: TBG, dtype: int64"
            ]
          },
          "metadata": {},
          "execution_count": 10
        }
      ]
    },
    {
      "cell_type": "code",
      "source": [
        "del df[\"TBG\"]"
      ],
      "metadata": {
        "id": "Mg7cq0WSo9uo"
      },
      "execution_count": null,
      "outputs": []
    },
    {
      "cell_type": "code",
      "source": [
        "df=df.replace({\"?\":np.NAN})"
      ],
      "metadata": {
        "id": "PCb20FdqpA5L"
      },
      "execution_count": null,
      "outputs": []
    },
    {
      "cell_type": "code",
      "source": [
        "df[\"sex\"].value_counts()"
      ],
      "metadata": {
        "colab": {
          "base_uri": "https://localhost:8080/"
        },
        "id": "EVP_fzlxpI8L",
        "outputId": "22be7a21-1889-41bd-c0fc-d77eddf183de"
      },
      "execution_count": null,
      "outputs": [
        {
          "output_type": "execute_result",
          "data": {
            "text/plain": [
              "F    2480\n",
              "M    1142\n",
              "Name: sex, dtype: int64"
            ]
          },
          "metadata": {},
          "execution_count": 13
        }
      ]
    },
    {
      "cell_type": "code",
      "source": [
        "df=df.replace({\"F\":1,\"M\":0})"
      ],
      "metadata": {
        "id": "yjyhZIBApKC-"
      },
      "execution_count": null,
      "outputs": []
    },
    {
      "cell_type": "code",
      "source": [
        "df[\"referral source\"].value_counts()"
      ],
      "metadata": {
        "colab": {
          "base_uri": "https://localhost:8080/"
        },
        "id": "ycTKa0xMpSgL",
        "outputId": "44049927-04fd-4f8b-b3c8-368180cbb334"
      },
      "execution_count": null,
      "outputs": [
        {
          "output_type": "execute_result",
          "data": {
            "text/plain": [
              "other    2201\n",
              "SVI      1034\n",
              "SVHC      386\n",
              "STMW      112\n",
              "SVHD       39\n",
              "Name: referral source, dtype: int64"
            ]
          },
          "metadata": {},
          "execution_count": 15
        }
      ]
    },
    {
      "cell_type": "code",
      "source": [
        "del df[\"referral source\"]"
      ],
      "metadata": {
        "id": "15UOEYo3pQx0"
      },
      "execution_count": null,
      "outputs": []
    },
    {
      "cell_type": "code",
      "source": [
        "df.dtypes"
      ],
      "metadata": {
        "colab": {
          "base_uri": "https://localhost:8080/"
        },
        "id": "GaaOT7v1po22",
        "outputId": "e27b6939-2107-4492-ed2d-2690bac11dba"
      },
      "execution_count": null,
      "outputs": [
        {
          "output_type": "execute_result",
          "data": {
            "text/plain": [
              "age                           object\n",
              "sex                          float64\n",
              "on thyroxine                   int64\n",
              "query on thyroxine             int64\n",
              "on antithyroid medication      int64\n",
              "sick                           int64\n",
              "pregnant                       int64\n",
              "thyroid surgery                int64\n",
              "I131 treatment                 int64\n",
              "query hypothyroid              int64\n",
              "query hyperthyroid             int64\n",
              "lithium                        int64\n",
              "goitre                         int64\n",
              "tumor                          int64\n",
              "hypopituitary                  int64\n",
              "psych                          int64\n",
              "TSH measured                   int64\n",
              "TSH                           object\n",
              "T3 measured                    int64\n",
              "T3                            object\n",
              "TT4 measured                   int64\n",
              "TT4                           object\n",
              "T4U measured                   int64\n",
              "T4U                           object\n",
              "FTI measured                   int64\n",
              "FTI                           object\n",
              "TBG measured                   int64\n",
              "binaryClass                    int64\n",
              "dtype: object"
            ]
          },
          "metadata": {},
          "execution_count": 17
        }
      ]
    },
    {
      "cell_type": "code",
      "source": [
        "cols = df.columns[df.dtypes.eq('object')]\n",
        "df[cols] = df[cols].apply(pd.to_numeric, errors='coerce')\n",
        "df.dtypes"
      ],
      "metadata": {
        "colab": {
          "base_uri": "https://localhost:8080/"
        },
        "id": "EaHjCIppp3dX",
        "outputId": "410d96f4-104c-47d6-8f6f-120b4f9fe5e7"
      },
      "execution_count": null,
      "outputs": [
        {
          "output_type": "execute_result",
          "data": {
            "text/plain": [
              "age                          float64\n",
              "sex                          float64\n",
              "on thyroxine                   int64\n",
              "query on thyroxine             int64\n",
              "on antithyroid medication      int64\n",
              "sick                           int64\n",
              "pregnant                       int64\n",
              "thyroid surgery                int64\n",
              "I131 treatment                 int64\n",
              "query hypothyroid              int64\n",
              "query hyperthyroid             int64\n",
              "lithium                        int64\n",
              "goitre                         int64\n",
              "tumor                          int64\n",
              "hypopituitary                  int64\n",
              "psych                          int64\n",
              "TSH measured                   int64\n",
              "TSH                          float64\n",
              "T3 measured                    int64\n",
              "T3                           float64\n",
              "TT4 measured                   int64\n",
              "TT4                          float64\n",
              "T4U measured                   int64\n",
              "T4U                          float64\n",
              "FTI measured                   int64\n",
              "FTI                          float64\n",
              "TBG measured                   int64\n",
              "binaryClass                    int64\n",
              "dtype: object"
            ]
          },
          "metadata": {},
          "execution_count": 18
        }
      ]
    },
    {
      "cell_type": "code",
      "source": [
        "from sklearn.impute import SimpleImputer\n",
        "\n",
        "imputer = SimpleImputer(strategy='mean')"
      ],
      "metadata": {
        "id": "5O-_7zmip-OV"
      },
      "execution_count": null,
      "outputs": []
    },
    {
      "cell_type": "code",
      "source": [
        "df['TSH'] = imputer.fit_transform(df[['TSH']])\n",
        "df['T3'] = imputer.fit_transform(df[['T3']])\n",
        "df['TT4'] = imputer.fit_transform(df[['TT4']])\n",
        "df['T4U'] = imputer.fit_transform(df[['T4U']])\n",
        "df['FTI'] = imputer.fit_transform(df[['FTI']])\n",
        "df['T4U measured'] = imputer.fit_transform(df[['T4U measured']])\n",
        "df['sex'] = imputer.fit_transform(df[['sex']])\n",
        "df['age'] = imputer.fit_transform(df[['age']])"
      ],
      "metadata": {
        "id": "SI_Y91X0qCi2"
      },
      "execution_count": null,
      "outputs": []
    },
    {
      "cell_type": "code",
      "source": [
        "df.isnull().sum()"
      ],
      "metadata": {
        "colab": {
          "base_uri": "https://localhost:8080/"
        },
        "id": "AEGKseaIq1lB",
        "outputId": "2869d46d-125e-4bbf-f81e-dd8effb254ec"
      },
      "execution_count": null,
      "outputs": [
        {
          "output_type": "execute_result",
          "data": {
            "text/plain": [
              "age                          0\n",
              "sex                          0\n",
              "on thyroxine                 0\n",
              "query on thyroxine           0\n",
              "on antithyroid medication    0\n",
              "sick                         0\n",
              "pregnant                     0\n",
              "thyroid surgery              0\n",
              "I131 treatment               0\n",
              "query hypothyroid            0\n",
              "query hyperthyroid           0\n",
              "lithium                      0\n",
              "goitre                       0\n",
              "tumor                        0\n",
              "hypopituitary                0\n",
              "psych                        0\n",
              "TSH measured                 0\n",
              "TSH                          0\n",
              "T3 measured                  0\n",
              "T3                           0\n",
              "TT4 measured                 0\n",
              "TT4                          0\n",
              "T4U measured                 0\n",
              "T4U                          0\n",
              "FTI measured                 0\n",
              "FTI                          0\n",
              "TBG measured                 0\n",
              "binaryClass                  0\n",
              "dtype: int64"
            ]
          },
          "metadata": {},
          "execution_count": 21
        }
      ]
    },
    {
      "cell_type": "code",
      "source": [
        "sns.countplot(x='binaryClass', data=df, hue='sex', palette='BuPu')"
      ],
      "metadata": {
        "colab": {
          "base_uri": "https://localhost:8080/",
          "height": 639
        },
        "id": "rQuqC3nvsfgl",
        "outputId": "b516ec24-2d31-4d7f-e942-b0ec61236258"
      },
      "execution_count": null,
      "outputs": [
        {
          "output_type": "execute_result",
          "data": {
            "text/plain": [
              "<matplotlib.axes._subplots.AxesSubplot at 0x7f7c2f655210>"
            ]
          },
          "metadata": {},
          "execution_count": 22
        },
        {
          "output_type": "display_data",
          "data": {
            "text/plain": [
              "<Figure size 720x720 with 1 Axes>"
            ],
            "image/png": "[encoded data removed]"
          },
          "metadata": {}
        }
      ]
    },
    {
      "cell_type": "code",
      "source": [
        "sns.stripplot(x=\"binaryClass\", y=\"age\", data=df, palette=\"viridis\")"
      ],
      "metadata": {
        "colab": {
          "base_uri": "https://localhost:8080/",
          "height": 639
        },
        "id": "HLV5kskqsj0K",
        "outputId": "e5474775-a0eb-4693-b22b-c7780cc2eb55"
      },
      "execution_count": null,
      "outputs": [
        {
          "output_type": "execute_result",
          "data": {
            "text/plain": [
              "<matplotlib.axes._subplots.AxesSubplot at 0x7f7c2e11a7d0>"
            ]
          },
          "metadata": {},
          "execution_count": 23
        },
        {
          "output_type": "display_data",
          "data": {
            "text/plain": [
              "<Figure size 720x720 with 1 Axes>"
            ],
            "image/png": "[encoded data removed]"
          },
          "metadata": {}
        }
      ]
    },
    {
      "cell_type": "code",
      "source": [
        "sns.heatmap(df.corr(), cmap='viridis', linecolor='k', linewidths=2, annot=False)"
      ],
      "metadata": {
        "colab": {
          "base_uri": "https://localhost:8080/",
          "height": 807
        },
        "id": "OE_XIxAlskvf",
        "outputId": "f898989b-72e1-45c8-cc8c-dd641641b27e"
      },
      "execution_count": null,
      "outputs": [
        {
          "output_type": "execute_result",
          "data": {
            "text/plain": [
              "<matplotlib.axes._subplots.AxesSubplot at 0x7f7c2dc48590>"
            ]
          },
          "metadata": {},
          "execution_count": 24
        },
        {
          "output_type": "display_data",
          "data": {
            "text/plain": [
              "<Figure size 720x720 with 2 Axes>"
            ],
            "image/png": "[encoded data removed]"
          },
          "metadata": {}
        }
      ]
    },
    {
      "cell_type": "code",
      "source": [
        "x = df.drop('binaryClass', axis=1)\n",
        "y = df['binaryClass']"
      ],
      "metadata": {
        "id": "T3dsWnjVte3d"
      },
      "execution_count": null,
      "outputs": []
    },
    {
      "cell_type": "code",
      "source": [
        "from sklearn.model_selection import train_test_split\n",
        "x_train, x_test, y_train, y_test = train_test_split(x, y, test_size=0.25, random_state=192529)"
      ],
      "metadata": {
        "id": "nkMWPn2AtmPx"
      },
      "execution_count": null,
      "outputs": []
    },
    {
      "cell_type": "code",
      "source": [
        "from sklearn.ensemble import RandomForestClassifier\n",
        "clf = RandomForestClassifier(n_estimators = 100)\n",
        "clf.fit(x_train, y_train)"
      ],
      "metadata": {
        "colab": {
          "base_uri": "https://localhost:8080/"
        },
        "id": "RjWPSRBXuIA6",
        "outputId": "4d0935a9-a7b2-4821-ad06-ff2e54be4340"
      },
      "execution_count": null,
      "outputs": [
        {
          "output_type": "execute_result",
          "data": {
            "text/plain": [
              "RandomForestClassifier()"
            ]
          },
          "metadata": {},
          "execution_count": 27
        }
      ]
    },
    {
      "cell_type": "code",
      "source": [
        "y_pred = clf.predict(x_test)"
      ],
      "metadata": {
        "id": "GPVWVFI3vj-_"
      },
      "execution_count": null,
      "outputs": []
    },
    {
      "cell_type": "code",
      "source": [
        "from sklearn import metrics\n",
        "print(\"ACCURACY OF THE MODEL: \", metrics.accuracy_score(y_test, y_pred))"
      ],
      "metadata": {
        "id": "GHWA-vl0vuju",
        "outputId": "15d8ebb8-71a8-4caf-94dc-a9a73e43ae57",
        "colab": {
          "base_uri": "https://localhost:8080/"
        }
      },
      "execution_count": null,
      "outputs": [
        {
          "output_type": "stream",
          "name": "stdout",
          "text": [
            "ACCURACY OF THE MODEL:  0.9957582184517497\n"
          ]
        }
      ]
    }
  ]
}